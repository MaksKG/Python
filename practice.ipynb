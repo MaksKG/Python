{
 "cells": [
  {
   "cell_type": "code",
   "execution_count": 1,
   "metadata": {},
   "outputs": [],
   "source": [
    "import time\n",
    "import random\n",
    "\n",
    "\n",
    "\n",
    "def delay_print(s):\n",
    "    for c in s:\n",
    "        print(c, end='')\n",
    "        time.sleep(random.random() * 0.01)\n",
    "    print()"
   ]
  },
  {
   "cell_type": "code",
   "execution_count": 2,
   "metadata": {},
   "outputs": [
    {
     "name": "stdout",
     "output_type": "stream",
     "text": [
      "Вітаю, 3! Тобі належить вибрати свій шлях у невеликій грі, в результаті якої ти дізнаєшся який сік компанії Січко™ тобі підходить найбільше!\n"
     ]
    }
   ],
   "source": [
    "character_name = input(\"Вітаю! Введіть ім'я вашого персонажа.\")\n",
    "delay_print(\"Вітаю, \" + character_name +\n",
    "            \"! Тобі належить вибрати свій шлях у невеликій грі, в результаті якої ти дізнаєшся який сік компанії Січко™ тобі підходить найбільше!\")\n"
   ]
  },
  {
   "cell_type": "code",
   "execution_count": 3,
   "metadata": {},
   "outputs": [
    {
     "name": "stdout",
     "output_type": "stream",
     "text": [
      "Вітаю на першому рівні! До тебе підходить невідоме створіння, схоже на гнома, і каже:\n",
      "'Привіт, незнайомцю. Якщо ти хочеш пройти, то тобі потрібно відгадати загадку. Якщо ти не хочеш, то я тебе вб'ю.'\n",
      "Варіанти відповідей:\n",
      "1) 'Так, я хочу відгадати загадку.'\n",
      "2) 'Ні, я не хочу відгадувати загадку. (почати драку)'\n",
      "Гном: 'Ти вирішив битися? Тоді почнемо.'\n"
     ]
    }
   ],
   "source": [
    "answers_array = []\n",
    "\n",
    "quest_index = 0\n",
    "\n",
    "delay_print(\"Вітаю на першому рівні! До тебе підходить невідоме створіння, схоже на гнома, і каже:\\n'Привіт, незнайомцю. Якщо ти хочеш пройти, то тобі потрібно відгадати загадку. Якщо ти не хочеш, то я тебе вб'ю.'\")\n",
    "\n",
    "print(\"Варіанти відповідей:\\n1) 'Так, я хочу відгадати загадку.'\\n2) 'Ні, я не хочу відгадувати загадку. (почати драку)'\")\n",
    "\n",
    "answer = input(\"Введіть відповідь: \")\n",
    "answers_array.append(answer)\n",
    "\n",
    "match answer:\n",
    "    case \"1\": delay_print(\"Гном: 'Добре, тоді почнемо. Якщо ти відгадаєш, то я тобі дам піти.'\")\n",
    "    case \"2\": delay_print(\"Гном: 'Ти вирішив битися? Тоді почнемо.'\")\n",
    "    case _: delay_print(\"Гном: 'Я не розумію тебе. Якщо ти не зможеш відповісти, то я тебе вб'ю.'\")\n",
    "    \n",
    "\n"
   ]
  },
  {
   "cell_type": "code",
   "execution_count": 4,
   "metadata": {},
   "outputs": [
    {
     "name": "stdout",
     "output_type": "stream",
     "text": [
      "*Гном розмахується кулаком і ударяє вас по коліну.*\n",
      "Гном: 'Н-Н-Н-А-А-А!!!'\n",
      "*Ви відчуваєте сильний біль в коліні але він не надто сильний*\n",
      "1. *пнути гнома з усієї сили ногою*\n",
      "2. Будь ласка!!! Не бий! Я відповім на твою загадку!!!\n"
     ]
    }
   ],
   "source": [
    "\n",
    "quest_index = 1\n",
    "previous_answer = answers_array[quest_index - 1]\n",
    "\n",
    "\n",
    "match previous_answer:\n",
    "    case \"1\": \n",
    "        delay_print(\"Гном: 'У мами Івана було три сини. Першого звали Петро, другого – Василь. Як звали третього сина?'\")\n",
    "        print(\"Варіанти відповідей:\\n1) 'Петро'\\n2) 'Іван'\\n3) 'Василь'\")\n",
    "        answer = input(\"Введіть відповідь: \")\n",
    "        answers_array.append(answer)\n",
    "    case '2':\n",
    "        print(\"*Гном розмахується кулаком і ударяє вас по коліну.*\")\n",
    "        delay_print(\"Гном: 'Н-Н-Н-А-А-А!!!'\")\n",
    "        print(\"*Ви відчуваєте сильний біль в коліні але він не надто сильний*\\n1. *пнути гнома з усієї сили ногою*\\n2. Будь ласка!!! Не бий! Я відповім на твою загадку!!!\")\n",
    "        answer = input(\"Введіть відповідь: \")\n",
    "        answers_array.append(answer)\n",
    "    case _: delay_print(\"Гном: 'Шо ти там бормочеш??!!'\")\n",
    "\n",
    "\n"
   ]
  },
  {
   "cell_type": "code",
   "execution_count": 5,
   "metadata": {},
   "outputs": [
    {
     "name": "stdout",
     "output_type": "stream",
     "text": [
      "Ви пнули Гнома. Ви знесли йому половину здоров'я\n",
      "Гном вирішив атакувати вас у відповідь але ви ухилилися.Що зробите далі?\n",
      "1)Вдарити ще раз ногою. 2)Побити його руками\n"
     ]
    }
   ],
   "source": [
    "quest_index = 4\n",
    "previous_answer = answers_array[quest_index - 3]\n",
    "\n",
    "match previous_answer:\n",
    "    case \"1\": \n",
    "        delay_print(\"Ви пнули Гнома. Ви знесли йому половину здоров'я\")\n",
    "        delay_print(\"Гном вирішив атакувати вас у відповідь але ви ухилилися.Що зробите далі?\")\n",
    "        print(\"1)Вдарити ще раз ногою. 2)Побити його руками\")\n",
    "        answer = input(\"Введіть відповідь: \")\n",
    "        answers_array.append(answer)\n",
    "    case _: delay_print(\"Довге очікування ви загинули\")\n"
   ]
  },
  {
   "cell_type": "code",
   "execution_count": 6,
   "metadata": {},
   "outputs": [
    {
     "name": "stdout",
     "output_type": "stream",
     "text": [
      "Вітаємо ви перемогли гнома. Враховуючи вашу відвагу ми рекомендуємо вам наш сік зі смаком 'Перемога'\n"
     ]
    }
   ],
   "source": [
    "quest_index = 5\n",
    "previous_answer = answers_array[quest_index - 4]\n",
    "\n",
    "match previous_answer:\n",
    "    case \"1\": \n",
    "        delay_print(\"Вітаємо ви перемогли гнома. Враховуючи вашу відвагу ми рекомендуємо вам наш сік зі смаком 'Перемога'\")\n",
    "    case '2':\n",
    "       delay_print(\"Вітаємо ви перемогли гнома.Дали жару йому своїми кулаками. Враховуючи вашу відвагу ми рекомендуємо вам наш сік зі смаком 'Перемога'\")\n",
    "    case _: delay_print(\"Ви промахнулися і загинули. Спробуйет ще раз\")\n"
   ]
  },
  {
   "cell_type": "code",
   "execution_count": 5,
   "metadata": {},
   "outputs": [
    {
     "name": "stdout",
     "output_type": "stream",
     "text": [
      "Гном: 'У мами Івана було три сини. Першого звали Петро, другого – Василь. Як звали третього сина?'\n",
      "Варіанти відповідей:\n",
      "1) 'Петро'\n",
      "2) 'Іван'\n",
      "3) 'Василь'\n"
     ]
    }
   ],
   "source": [
    "quest_index = 6\n",
    "previous_answer = answers_array[quest_index - 5]\n",
    "\n",
    "match previous_answer:\n",
    "    case \"1\":\n",
    "        print(\"\")\n",
    "    case \"2\":\n",
    "        delay_print(\"Мудрий вибір. Я задам тобі загадку, але якщо ще раз нападеш пощади не буде. Тож слухай\")\n",
    "        delay_print(\"Гном: 'У мами Івана було три сини. Першого звали Петро, другого – Василь. Як звали третього сина?'\")\n",
    "        print(\"Варіанти відповідей:\\n1) 'Петро'\\n2) 'Іван'\\n3) 'Василь'\")\n",
    "        answer = input(\"Введіть відповідь: \")\n",
    "        answers_array.append(answer)\n",
    "        previous_answer = answers_array[1]\n",
    "    case _: delay_print(\"Ви розлютили Гнома і загинули. Спробуйте ще раз\")"
   ]
  },
  {
   "cell_type": "code",
   "execution_count": 6,
   "metadata": {},
   "outputs": [
    {
     "name": "stdout",
     "output_type": "stream",
     "text": [
      "Ти вибрав Івана і це була правильна відповідь\n",
      "Тоді ми продовжимо нашу гру. Слухай загадку.\n",
      "Що збільшується, але ніколи не зменшується?\n",
      "Варіанти відповідей:\n",
      "1)Тиск \n",
      "2)Вік \n",
      "3)Сни\n"
     ]
    }
   ],
   "source": [
    "quest_index = 2\n",
    "previous_answer = answers_array[quest_index - 1]\n",
    "\n",
    "match previous_answer:\n",
    "    case \"1\":\n",
    "        delay_print(\"Ви обрали неправильну відповідь. Гном вас з'їв.\\nGame over\")\n",
    "    case \"2\":\n",
    "        delay_print(\"Ти вибрав Івана і це була правильна відповідь\")\n",
    "        delay_print(\"Тоді ми продовжимо нашу гру. Слухай загадку.\\nЩо збільшується, але ніколи не зменшується?\")\n",
    "        print(\"Варіанти відповідей:\\n1)Тиск \\n2)Вік \\n3)Сни\")\n",
    "        answer = input(\"Введіть відповідь:\")\n",
    "        answers_array.append(answer)\n",
    "    case \"3\":\n",
    "         delay_print(\"Ви вибрали неправильну відповідь. Гном вас вбив.\\nGame over\")\n",
    "    case _: delay_print(\"Гном: 'Шо ти там бормочеш??!!'\")\n",
    "\n",
    "\n"
   ]
  },
  {
   "cell_type": "code",
   "execution_count": 7,
   "metadata": {},
   "outputs": [
    {
     "name": "stdout",
     "output_type": "stream",
     "text": [
      "Правильна відповідь.Отже ми рекомендуємо тобі смак Лісові Ягоди\n"
     ]
    }
   ],
   "source": [
    "quest_index = 3\n",
    "previous_answer = answers_array[quest_index - 1]\n",
    "\n",
    "match previous_answer:\n",
    "    case \"1\":\n",
    "        print(\"Відповідь неправильна\")\n",
    "        delay_print(\"Непогана робота. Вітаємо тебе з проходженням гри!\")\n",
    "        delay_print(\"Рекомендуюємо тобі смак Морква\")\n",
    "    case \"2\":\n",
    "        delay_print(\"Неймовірна робота. Вітаємо тебе! Ти закінчив цей шлях ідеально!\")\n",
    "        delay_print(\"Правильна відповідь.Отже ми рекомендуємо тобі смак Лісові Ягоди\")\n",
    "    case \"3\":\n",
    "        print(\"Відповідь неправильна\")\n",
    "        delay_print(\"Непогана робота. Можна було краще, але ти впорався.Вітаємо!\")\n",
    "        delay_print(\"Рекомендуємо тобі смак Чорниця\")\n",
    "    case _: delay_print(\"Зробуй ще раз\")\n",
    "\n",
    "    "
   ]
  }
 ],
 "metadata": {
  "kernelspec": {
   "display_name": "Python 3",
   "language": "python",
   "name": "python3"
  },
  "language_info": {
   "codemirror_mode": {
    "name": "ipython",
    "version": 3
   },
   "file_extension": ".py",
   "mimetype": "text/x-python",
   "name": "python",
   "nbconvert_exporter": "python",
   "pygments_lexer": "ipython3",
   "version": "3.11.5"
  },
  "orig_nbformat": 4
 },
 "nbformat": 4,
 "nbformat_minor": 2
}
