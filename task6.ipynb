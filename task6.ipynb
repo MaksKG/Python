{
 "cells": [
  {
   "cell_type": "markdown",
   "metadata": {},
   "source": [
    "### Завдання: \"Генератор щоденника виконання функцій\"\n",
    "\n",
    "**Опис завдання**:\n",
    "\n",
    "Ви - розробник, який працює над великим проектом. Для кращого моніторингу виконання функцій ви вирішили створити декоратор, який буде записувати інформацію про кожен виклик функції. Також ви хочете мати можливість перебирати всі записи у порядку їх додавання за допомогою генератора.\n",
    "\n",
    "**Завдання**:\n",
    "\n",
    "1. **Створіть декоратор `@logger`, який буде:**\n",
    "    - Записувати час виклику, назву функції, передані аргументи та отриманий результат.\n",
    "    - Зберігати цю інформацію у якійсь внутрішній структурі (наприклад, у списку).\n",
    "\n",
    "2. **Створіть генератор `get_logs()`, який буде:**\n",
    "    - Повертати по одному запису з історії викликів кожного разу, коли його викликають.\n",
    "\n",
    "**Приклад використання**:\n",
    "\n",
    "```python\n",
    "@logger\n",
    "def multiply(a, b):\n",
    "    return a * b\n",
    "\n",
    "multiply(3, 4)\n",
    "multiply(5, 6)\n",
    "\n",
    "log = get_logs()\n",
    "\n",
    "print(next(log))  # Повинно повернути інформацію про виклик `multiply(3, 4)`\n",
    "print(next(log))  # Повинно повернути інформацію про виклик `multiply(5, 6)`\n",
    "```\n",
    "\n",
    "**Підказки**:\n",
    "\n",
    "1. Декоратор може використовувати `datetime.now()` для отримання часу виклику.\n",
    "2. Генератору, можливо, знадобиться мати доступ до внутрішньої структури декоратора, щоб перебирати записи.\n",
    "\n",
    "## Додаткове завдання\n",
    "- зробити запис логу у файл. Повторити всі вказані операції, при умові синхронізації логу у файлі\n",
    "- розширити функціонал декоратору @log додавши можливість збереження типу функції (наприклад, лог помилок, лог виклику фунцкції з ворнінгом і т.п.)"
   ]
  },
  {
   "cell_type": "code",
   "execution_count": 6,
   "metadata": {},
   "outputs": [
    {
     "name": "stdout",
     "output_type": "stream",
     "text": [
      "{'time': datetime.datetime(2023, 10, 23, 18, 47, 36, 387167), 'function': 'add', 'args': (1, 2), 'kwargs': {}, 'result': 3}\n",
      "{'time': datetime.datetime(2023, 10, 23, 18, 47, 36, 387167), 'function': 'add', 'args': (3, 6), 'kwargs': {}, 'result': 9}\n",
      "{'time': datetime.datetime(2023, 10, 23, 18, 47, 36, 387167), 'function': 'add', 'args': (8, 12), 'kwargs': {}, 'result': 20}\n"
     ]
    }
   ],
   "source": [
    "from datetime import datetime\n",
    "\n",
    "class Logger:\n",
    "    def __init__(self):\n",
    "        self.logs = []\n",
    "# Decorator\n",
    "    def __call__(self, func):\n",
    "        def wrapper(*args, **kwargs):\n",
    "            start_time = datetime.now()\n",
    "            result = func(*args, **kwargs)\n",
    "            end_time = datetime.now()\n",
    "\n",
    "            self.logs.append({\n",
    "                \"time\": start_time,\n",
    "                \"function\": func.__name__,\n",
    "                \"args\": args,\n",
    "                \"kwargs\": kwargs,\n",
    "                \"result\": result,\n",
    "            })\n",
    "            return result\n",
    "        return wrapper\n",
    "# Generator\n",
    "    def get_logs(self):\n",
    "        for log in self.logs:\n",
    "            yield log\n",
    "\n",
    "logger = Logger()\n",
    "\n",
    "\n",
    "@logger\n",
    "def add(x, y):\n",
    "    return x + y\n",
    "\n",
    "add(1, 2)\n",
    "add(3,6)\n",
    "add(8,12)\n",
    "\n",
    "\n",
    "for log in logger.get_logs():\n",
    "    print(log)"
   ]
  }
 ],
 "metadata": {
  "kernelspec": {
   "display_name": "Python 3",
   "language": "python",
   "name": "python3"
  },
  "language_info": {
   "codemirror_mode": {
    "name": "ipython",
    "version": 3
   },
   "file_extension": ".py",
   "mimetype": "text/x-python",
   "name": "python",
   "nbconvert_exporter": "python",
   "pygments_lexer": "ipython3",
   "version": "3.11.5"
  }
 },
 "nbformat": 4,
 "nbformat_minor": 2
}
